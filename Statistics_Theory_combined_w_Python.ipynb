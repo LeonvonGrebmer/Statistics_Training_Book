{
 "cells": [
  {
   "cell_type": "markdown",
   "metadata": {},
   "source": [
    "# Statistics Training Book\n",
    "\n",
    "### Why I made this notebook?\n",
    "\n",
    "This Notebook is here to train the fundamentals in Descriptive Statistics. \n",
    "It contains quizzles for all fundamental Statistic formulas, theory, etc.. \n",
    "The goal is to **master the mechanics through repetition**. \n",
    "The work here is based on the book \"Statistics\" written by David Freedman, which I really enjoyed reading.\n",
    "\n",
    "### Requirements\n",
    "\n",
    "No further requirements needed."
   ]
  },
  {
   "cell_type": "markdown",
   "metadata": {},
   "source": [
    "### Let's get started"
   ]
  },
  {
   "cell_type": "markdown",
   "metadata": {},
   "source": [
    "## 1. Histogram"
   ]
  },
  {
   "cell_type": "markdown",
   "metadata": {},
   "source": [
    "#### How does a histogram work?"
   ]
  },
  {
   "cell_type": "code",
   "execution_count": 1,
   "metadata": {},
   "outputs": [],
   "source": [
    "import numpy as np\n",
    "import pandas as pd\n",
    "import matplotlib.pyplot as plt\n",
    "import seaborn as sns"
   ]
  },
  {
   "cell_type": "code",
   "execution_count": 2,
   "metadata": {},
   "outputs": [
    {
     "data": {
      "image/png": "[encoded data removed]",
      "text/plain": [
       "<Figure size 432x288 with 1 Axes>"
      ]
     },
     "metadata": {},
     "output_type": "display_data"
    }
   ],
   "source": [
    "x = [1,1,2,3,3,5,7,8,9,10,\n",
    "     10,11,11,13,13,15,16,17,18,18,\n",
    "     18,19,20,21,21,23,24,24,25,25,\n",
    "     25,25,26,26,26,27,27,27,27,27,\n",
    "     29,30,30,31,33,34,34,34,35,36,\n",
    "     36,37,37,38,38,39,40,41,41,42,\n",
    "     43,44,45,45,46,47,48,48,49,50,\n",
    "     51,52,53,54,55,55,56,57,58,60,\n",
    "     61,63,64,65,66,68,70,71,72,74,\n",
    "     75,77,81,83,84,87,89,90,90,91\n",
    "     ]\n",
    "\n",
    "plt.style.use('ggplot')\n",
    "plt.hist(x, bins= 10)\n",
    "plt.show()"
   ]
  },
  {
   "cell_type": "markdown",
   "metadata": {},
   "source": [
    "In a histogram, the height of a block represents crowding (percentage per horizontal unit. "
   ]
  },
  {
   "cell_type": "markdown",
   "metadata": {},
   "source": [
    "**With the density scale on the vertical axis, the areas of the blocks come out in percent. The area under the histogram over an interval equals the percentage of cases in that interval. The total area under the histogram is 100%**"
   ]
  },
  {
   "cell_type": "markdown",
   "metadata": {},
   "source": [
    "#### Definition Variable"
   ]
  },
  {
   "cell_type": "markdown",
   "metadata": {},
   "source": [
    "A variable is a characteristic which changes from person to person in a study.\n",
    "We differentiate between a **quantitative** or **qualitative** variable."
   ]
  },
  {
   "cell_type": "markdown",
   "metadata": {},
   "source": [
    "A quantitative variable is something you can count, like age, weight, number of cars, wage, family size. \n",
    "A qualitative variable is something like a cetegory. E.g. employment status(employed, unemployed, not in the labor force) or marital status (single, married, widowed, etc.) "
   ]
  },
  {
   "cell_type": "markdown",
   "metadata": {},
   "source": [
    "Further we can distiguish the quantitative variable in **discrete** or **continuous**. \n",
    "Discrete variable is when the numbers can only differ by a fix amount. Like the number of cars you have seen today, or family members you have. \n",
    "Continuous variable is when the number can differ by a endless small amount. Like weight or age. You can be always weight a thiny little bit more than the other. Or the distance to two meters can always get something smaller than before. Like 1.99 meters and smaller 1.999999 meters and so on."
   ]
  },
  {
   "cell_type": "markdown",
   "metadata": {},
   "source": [
    "## 2. The Average and the Standart Deviation"
   ]
  },
  {
   "cell_type": "markdown",
   "metadata": {},
   "source": [
    "To summarize a large amount of data, there are several possible ways, to do so. "
   ]
  },
  {
   "cell_type": "markdown",
   "metadata": {},
   "source": [
    "#### The Average"
   ]
  },
  {
   "cell_type": "markdown",
   "metadata": {},
   "source": [
    "Definition:\n",
    "\n",
    "    The average of a list of numbers equals their sum, divided by how many there are."
   ]
  },
  {
   "cell_type": "code",
   "execution_count": 3,
   "metadata": {},
   "outputs": [
    {
     "data": {
      "text/plain": [
       "5.714285714285714"
      ]
     },
     "execution_count": 3,
     "metadata": {},
     "output_type": "execute_result"
    }
   ],
   "source": [
    "list_x = [4,5,6,7,8,9,1]\n",
    "avg_list_x = np.sum(list_x) / len(list_x)\n",
    "avg_list_x"
   ]
  },
  {
   "cell_type": "markdown",
   "metadata": {},
   "source": [
    "#### The Median"
   ]
  },
  {
   "cell_type": "markdown",
   "metadata": {},
   "source": [
    "Definition:\n",
    "    \n",
    "    The median of a list of numbers is half the value with half the area of the list on the right and half the area to the left"
   ]
  },
  {
   "cell_type": "code",
   "execution_count": 4,
   "metadata": {},
   "outputs": [
    {
     "data": {
      "text/plain": [
       "3.0"
      ]
     },
     "execution_count": 4,
     "metadata": {},
     "output_type": "execute_result"
    }
   ],
   "source": [
    "# If the list has odd number of values, you take the value in the middle of the list\n",
    "# Value in the middle is 3\n",
    "list_y = [1,2,2,3,4,4,6]\n",
    "median_list_y = np.median(list_y)\n",
    "median_list_y"
   ]
  },
  {
   "cell_type": "code",
   "execution_count": 5,
   "metadata": {},
   "outputs": [
    {
     "data": {
      "text/plain": [
       "4.5"
      ]
     },
     "execution_count": 5,
     "metadata": {},
     "output_type": "execute_result"
    }
   ],
   "source": [
    "# if the list has even number of values, you tkae the two middle values and take the average of them. \n",
    "#Average of 4 and 5\n",
    "list_z = [1,2,3,3,4,5,5,6,8,12]\n",
    "median_list_z = np.median(list_z)\n",
    "median_list_z "
   ]
  },
  {
   "cell_type": "markdown",
   "metadata": {},
   "source": [
    "*Good to know:*\n",
    "\n",
    "Always sort the list before getting the median manually. \n",
    "The NumPy method np.median() will do this automatically for you."
   ]
  },
  {
   "cell_type": "code",
   "execution_count": 6,
   "metadata": {},
   "outputs": [
    {
     "name": "stdout",
     "output_type": "stream",
     "text": [
      "This is the sorted list:\n",
      " [-6 -4 -1  0  3  4 12]\n",
      "This is the median of the sorted list:\n",
      " 0.0\n",
      "This is the median of the unsorted list:\n",
      " 0.0\n"
     ]
    }
   ],
   "source": [
    "list_unsorted= [0,-1,3,-6,12,4,-4]\n",
    "list_sorted = np.sort(list_unsorted)\n",
    "print(\"This is the sorted list:\\n\", list_sorted)\n",
    "median_list_sorted = np.median(list_sorted)\n",
    "median_list_unsorted = np.median(list_unsorted)\n",
    "print(\"This is the median of the sorted list:\\n\", median_list_sorted)\n",
    "print(\"This is the median of the unsorted list:\\n\", median_list_unsorted)"
   ]
  },
  {
   "cell_type": "markdown",
   "metadata": {},
   "source": [
    "#### The Root-Mean-Square"
   ]
  },
  {
   "cell_type": "markdown",
   "metadata": {},
   "source": [
    "To measure how big the spread of a list, we use the standart deviation. If you have a list like that:\n",
    "\n",
    "    [ 0, 5, -8, 7, -3]\n",
    "\n",
    "the average would be 0.2. It does not say much about the data, only that the positives cancel the negatives to a large extent. \n",
    "One solution to solve this, would be to cancel all the signs and then take the average. \n",
    "Statisticians do something else:\n",
    "They apply the *root-mean-square* operation. \n",
    "The phrase \"root-mean-square\" says how to do the arithmetic, provided you remember to read it backwards:\n",
    "\n",
    "    - Square all the entries, getting rid of the signs\n",
    "    - Take the mean(average) of the squares\n",
    "    - Take the square Root of the mean"
   ]
  },
  {
   "cell_type": "code",
   "execution_count": 7,
   "metadata": {},
   "outputs": [
    {
     "name": "stdout",
     "output_type": "stream",
     "text": [
      "The mean of list_x: 0.2\n",
      "The mean of the absolute from list_x: 4.6\n",
      "The r.m.s. of list_x: 5.422176684690384\n"
     ]
    }
   ],
   "source": [
    "list_x = [0,5,-8,7,-3]\n",
    "\n",
    "# Taking the average of the list\n",
    "mean_list_x = np.mean(list_x)\n",
    "print(\"The mean of list_x:\", mean_list_x)\n",
    "\n",
    "# Taking the mean of the list neglecting the signs\n",
    "meanabs_list_x = np.mean(np.abs(list_x))\n",
    "print(\"The mean of the absolute from list_x:\", meanabs_list_x)\n",
    "\n",
    "# Taking the r.m.s. size of the list\n",
    "rms_list_x = np.sqrt(np.mean(np.array(list_x) ** 2))\n",
    "print(\"The r.m.s. of list_x:\", rms_list_x)\n"
   ]
  },
  {
   "cell_type": "markdown",
   "metadata": {},
   "source": [
    "#### The Standart Deviation"
   ]
  },
  {
   "cell_type": "markdown",
   "metadata": {},
   "source": [
    "Definition:\n",
    "    \n",
    "    The Standart Deviation(SD) says how far away numbers on a list are from their average. Most entries on the list will be somewhere around one SD away from the average. Very few will be more than two or three SDs away."
   ]
  },
  {
   "cell_type": "markdown",
   "metadata": {},
   "source": [
    "*Good to know:*\n",
    "\n",
    "Roughly 68% of the entries on a list (two in three) are within one SD of the average, the other 32% are further away. Roughly 95% (19 in 20) are within two SDs of the average, the other 5% are further away. This is so for many lists, but not all."
   ]
  },
  {
   "cell_type": "code",
   "execution_count": 8,
   "metadata": {},
   "outputs": [
    {
     "data": {
      "text/plain": [
       "<matplotlib.legend.Legend at 0x21e1142d130>"
      ]
     },
     "execution_count": 8,
     "metadata": {},
     "output_type": "execute_result"
    },
    {
     "data": {
      "image/png": "[encoded data removed]",
      "text/plain": [
       "<Figure size 432x288 with 1 Axes>"
      ]
     },
     "metadata": {},
     "output_type": "display_data"
    }
   ],
   "source": [
    "x = np.array(x)\n",
    "plt.hist(x, bins=10, alpha= 0.5)\n",
    "plt.plot(x.mean(), 10)\n",
    "plt.xlabel(\"age\")\n",
    "plt.axvline(x.mean(), color='k', linestyle='dashed', linewidth=1, label= \"mean\")\n",
    "plt.axvline(x.mean() + x.std(), color=\"red\", linestyle= \"solid\", linewidth= .6, label= \"+1 std\")\n",
    "plt.axvline(x.mean() - x.std(), color=\"blue\", linestyle= \"solid\", linewidth= .6, label= \"- 1 std\")\n",
    "plt.axvline(np.median(x), color=\"yellow\", linestyle= \"solid\", linewidth= .6, label= \"median\")\n",
    "plt.legend()"
   ]
  },
  {
   "cell_type": "markdown",
   "metadata": {},
   "source": [
    "The histogram above shows the data from the histogram section. It includes the point for the mean, median, and the section for 1 SD.\n",
    "Around 68% of the data lies between the -1/+1 SD lines."
   ]
  },
  {
   "cell_type": "markdown",
   "metadata": {},
   "source": [
    "#### Computing The Standart Deviation"
   ]
  },
  {
   "cell_type": "markdown",
   "metadata": {},
   "source": [
    "To find the SD of a list, take the entries one at a time. Each deviates from the average by some amount, perhaps 0:\n",
    "\n",
    "    deviation from average = entry - average"
   ]
  },
  {
   "cell_type": "markdown",
   "metadata": {},
   "source": [
    "Defintion:\n",
    "    \n",
    "    SD = r.m.s. deviation from average\n",
    "   "
   ]
  },
  {
   "cell_type": "code",
   "execution_count": 9,
   "metadata": {},
   "outputs": [
    {
     "name": "stdout",
     "output_type": "stream",
     "text": [
      "The average of list_x: 15.0\n",
      "The deviation from the average for each entry is: [ 5. -5.  0.  0.]\n",
      "The SD for the list_x is: 3.5355339059327378\n"
     ]
    }
   ],
   "source": [
    "# Find the SD of the list 20,10,15,15\n",
    "\n",
    "# First step is to find the average:\n",
    "list_x = np.array([20, 10, 15, 15])\n",
    "avg_list_x = np.mean(list_x)\n",
    "print(\"The average of list_x:\", avg_list_x)\n",
    "\n",
    "# Second step is to find the deviation from the average: just substract the average from each entry:\n",
    "deviation_list_x = list_x - avg_list_x\n",
    "print(\"The deviation from the average for each entry is:\", deviation_list_x)\n",
    "\n",
    "# Last step is to find the r.m.s. of the deviations:\n",
    "sd_list_x = np.sqrt(np.mean(deviation_list_x ** 2))\n",
    "print(\"The SD for the list_x is:\", sd_list_x)"
   ]
  },
  {
   "cell_type": "code",
   "execution_count": 10,
   "metadata": {},
   "outputs": [
    {
     "name": "stdout",
     "output_type": "stream",
     "text": [
      "The SD for the list_x is: 3.5355339059327378\n"
     ]
    }
   ],
   "source": [
    "# NumPy provides a method to do all three steps in one\n",
    "print(\"The SD for the list_x is:\", np.std(list_x))"
   ]
  },
  {
   "cell_type": "markdown",
   "metadata": {},
   "source": [
    "The SD comes out in the same units as the data. For example, suppose heights are measured in cm. The intermediate squaring step in the procedure changes the units to cm squared, but the square root returns the answer to the original units. \n",
    "Remember:\n",
    "\n",
    "    The SD is the r.m.s., not of the original numbers on the list, but of their deviations from average."
   ]
  },
  {
   "cell_type": "markdown",
   "metadata": {},
   "source": [
    "## 3. The Normal Approximation for Data"
   ]
  },
  {
   "cell_type": "markdown",
   "metadata": {},
   "source": [
    "#### The Normal Curve"
   ]
  },
  {
   "cell_type": "code",
   "execution_count": 11,
   "metadata": {},
   "outputs": [
    {
     "data": {
      "text/plain": [
       "<matplotlib.axes._subplots.AxesSubplot at 0x21e124dfc10>"
      ]
     },
     "execution_count": 11,
     "metadata": {},
     "output_type": "execute_result"
    },
    {
     "data": {
      "image/png": "[encoded data removed]",
      "text/plain": [
       "<Figure size 432x288 with 1 Axes>"
      ]
     },
     "metadata": {},
     "output_type": "display_data"
    }
   ],
   "source": [
    "data= np.random.normal(0,1,1000000)\n",
    "sns.distplot(data)"
   ]
  },
  {
   "cell_type": "markdown",
   "metadata": {},
   "source": [
    "The graph above shows a normal curve. \n",
    "Several features of this graph will be important. First, the graph is symmetric about 0, meaning that the part of the curve to the right of 0 is a mirror image of the part to the left. Next, the total are under the curve equals 100%.(Areas come out in percent, because the vertical axis uses the density scale.) \n",
    "Finally, the curve is always above the horizontal axis. It appears to stop between 3 and 4, but that's only because the curve gets so low there. Only about 6/100'000 of the area is outside the interval from -4 to 4."
   ]
  },
  {
   "cell_type": "markdown",
   "metadata": {},
   "source": [
    "Many histograms for data are similar in shape to the normal curve, provided they are drwan to the same scale. Making the horizontal scales match up involves *standart units*."
   ]
  },
  {
   "cell_type": "markdown",
   "metadata": {},
   "source": [
    "Definition Standart Units:\n",
    "\n",
    "    A value is converted to standart units by seeing how many SDs it is above or below the average."
   ]
  },
  {
   "cell_type": "code",
   "execution_count": 12,
   "metadata": {},
   "outputs": [
    {
     "name": "stdout",
     "output_type": "stream",
     "text": [
      "Mean = 12.666666666666666\n",
      "SD = 2.9249881291307074\n",
      "Standart units = [-0.91168461 -0.22792115  0.11396058 -1.25356634  0.45584231  1.82336922]\n"
     ]
    }
   ],
   "source": [
    "# Numpy array\n",
    "x_list = np.array([10,12,13,9,14,18])\n",
    "\n",
    "# Calculating mean\n",
    "mean_x_list = np.mean(x_list)\n",
    "print(\"Mean =\", mean_x_list)\n",
    "\n",
    "# Calculating SD\n",
    "sd_x_list = np.std(x_list)\n",
    "print(\"SD =\", sd_x_list)\n",
    "\n",
    "# Calculating standart units\n",
    "su_x_list = (x_list - mean_x_list) / sd_x_list\n",
    "print(\"Standart units =\", su_x_list)"
   ]
  },
  {
   "cell_type": "markdown",
   "metadata": {},
   "source": [
    "#### Percentiles"
   ]
  },
  {
   "cell_type": "markdown",
   "metadata": {},
   "source": [
    "The average and SD can be used to summarize data following the normal curve. They are less satisfactory for other kinds of data. If the histogram has a long right-hand tail or left-hand tail, statisticians use the percentiles."
   ]
  },
  {
   "cell_type": "code",
   "execution_count": 13,
   "metadata": {},
   "outputs": [
    {
     "data": {
      "text/plain": [
       "(array([3., 4., 3., 2., 1., 1., 1.]),\n",
       " array([0.        , 0.85714286, 1.71428571, 2.57142857, 3.42857143,\n",
       "        4.28571429, 5.14285714, 6.        ]),\n",
       " <a list of 7 Patch objects>)"
      ]
     },
     "execution_count": 13,
     "metadata": {},
     "output_type": "execute_result"
    },
    {
     "data": {
      "image/png": "[encoded data removed]",
      "text/plain": [
       "<Figure size 432x288 with 1 Axes>"
      ]
     },
     "metadata": {},
     "output_type": "display_data"
    }
   ],
   "source": [
    "data = np.array([0,0,0,1,1,1,1,2,2,2,3,3,4,5,6])\n",
    "plt.hist(data,bins=7)"
   ]
  },
  {
   "cell_type": "markdown",
   "metadata": {},
   "source": [
    "The histogram above is not following the normal curve.\n",
    "By using the percentile you can see, which data is below a certain amount of percent."
   ]
  },
  {
   "cell_type": "code",
   "execution_count": 14,
   "metadata": {},
   "outputs": [
    {
     "name": "stdout",
     "output_type": "stream",
     "text": [
      "25% of the data is smaller then 1.0\n",
      "75% of the data is smaller then 3.0\n",
      "50% of the data is smaller than 2.0 this is also the median\n",
      "The iqr spread of the list is 2.0\n"
     ]
    }
   ],
   "source": [
    "# The 25th percentile\n",
    "percentile25 = np.percentile(data,25)\n",
    "print(\"25% of the data is smaller then\", percentile25)\n",
    "\n",
    "# The 75th percentile\n",
    "percentile75 = np.percentile(data,75)\n",
    "print(\"75% of the data is smaller then\", percentile75)\n",
    "\n",
    "# The 50th percentile\n",
    "percentile50 = np.median(data)\n",
    "print(\"50% of the data is smaller than\", percentile50, \"this is also the median\")\n",
    "\n",
    "#The interquartile range\n",
    "iqr = percentile75 - percentile25\n",
    "print(\"The iqr spread of the list is\", iqr)"
   ]
  },
  {
   "cell_type": "markdown",
   "metadata": {},
   "source": [
    "#### Change Of Scale"
   ]
  },
  {
   "cell_type": "markdown",
   "metadata": {},
   "source": [
    "If you add the same number of every entry on a list, that number just gets added to the average; the SD does not change. \n",
    "Furthermore, if you multiply every entry on a list by the same number, the average and the SD simply get multiplied by that number. (Except if the multiplier is negative, then just whipe out its sign, before multiplying the SD.)"
   ]
  },
  {
   "cell_type": "code",
   "execution_count": 15,
   "metadata": {},
   "outputs": [
    {
     "name": "stdout",
     "output_type": "stream",
     "text": [
      "x_list: [1 2 3 4 5 6]\n",
      "Mean of x_list: 3.5\n",
      "SD of x_list: 1.707825127659933 \n",
      "\n",
      "x5_list: [ 6  7  8  9 10 11]\n",
      "Mean of x5_list: 8.5\n",
      "SD of x5_list: 1.707825127659933 \n",
      "\n",
      "x3_list: [ 3  6  9 12 15 18]\n",
      "Mean of x3_list: 10.5\n",
      "SD of x3_list: 5.123475382979799\n"
     ]
    }
   ],
   "source": [
    "# normal list\n",
    "x_list = np.array([1,2,3,4,5,6])\n",
    "print(\"x_list:\",x_list)\n",
    "mean_x_list = np.mean(x_list)\n",
    "print(\"Mean of x_list:\",mean_x_list)\n",
    "std_x_list = np.std(x_list)\n",
    "print(\"SD of x_list:\", std_x_list, \"\\n\")\n",
    "\n",
    "# adding 5 to each entry\n",
    "x5_list = x_list + 5\n",
    "print(\"x5_list:\",x5_list)\n",
    "mean_x5_list = np.mean(x5_list)\n",
    "print(\"Mean of x5_list:\",mean_x5_list)\n",
    "std_x5_list = np.std(x5_list)\n",
    "print(\"SD of x5_list:\", std_x5_list, \"\\n\")\n",
    "\n",
    "# Multiplying each entry by 3\n",
    "x3_list = x_list * 3\n",
    "print(\"x3_list:\",x3_list)\n",
    "mean_x3_list = np.mean(x3_list)\n",
    "print(\"Mean of x3_list:\",mean_x3_list)\n",
    "std_x3_list = np.std(x3_list)\n",
    "print(\"SD of x3_list:\", std_x3_list)\n"
   ]
  },
  {
   "cell_type": "markdown",
   "metadata": {},
   "source": [
    "## 4. Measurement Error"
   ]
  },
  {
   "cell_type": "markdown",
   "metadata": {},
   "source": [
    "#### Chance Error"
   ]
  },
  {
   "cell_type": "markdown",
   "metadata": {},
   "source": [
    "The SD of a series of repeated measurements estimates the likely size of the chance error in a single measurement."
   ]
  },
  {
   "cell_type": "markdown",
   "metadata": {},
   "source": [
    "#### Outliers"
   ]
  },
  {
   "cell_type": "markdown",
   "metadata": {},
   "source": [
    "There is a hard choice to make when investigators see an outlier. Either they ignore it, or they have to concede that their measurements don't follow the normal curve. The prestige of the curve is so high that the first choice is the usual one."
   ]
  },
  {
   "cell_type": "markdown",
   "metadata": {},
   "source": [
    "#### Bias"
   ]
  },
  {
   "cell_type": "markdown",
   "metadata": {},
   "source": [
    "Bias affects all measurements the same way, pushing them in the same direction. Chance errors change from measurement to measurement, sometimes up and sometimes down. \n",
    "\n",
    "    individual measurement = exact value + bias + chance error\n",
    "    \n",
    "If there is no bias in a measurement procedure, the long-run average of repeadet measurements should give the exact value of the thing being measured: the chance error should cancel out. However, when bias is present, the long-run average will itself be either too high or too low."
   ]
  },
  {
   "cell_type": "markdown",
   "metadata": {},
   "source": [
    "## 5. Plotting Points and Lines"
   ]
  },
  {
   "cell_type": "markdown",
   "metadata": {},
   "source": [
    "#### Plotting Points On The Graph With Matplotlib"
   ]
  },
  {
   "cell_type": "code",
   "execution_count": 16,
   "metadata": {},
   "outputs": [
    {
     "data": {
      "text/plain": [
       "<matplotlib.collections.PathCollection at 0x21e12564e20>"
      ]
     },
     "execution_count": 16,
     "metadata": {},
     "output_type": "execute_result"
    },
    {
     "data": {
      "image/png": "[encoded data removed]",
      "text/plain": [
       "<Figure size 432x288 with 1 Axes>"
      ]
     },
     "metadata": {},
     "output_type": "display_data"
    }
   ],
   "source": [
    "x = 5\n",
    "y = 3\n",
    "plt.scatter(x,y)"
   ]
  },
  {
   "cell_type": "code",
   "execution_count": 17,
   "metadata": {},
   "outputs": [
    {
     "data": {
      "text/plain": [
       "<matplotlib.collections.PathCollection at 0x21e125c7a90>"
      ]
     },
     "execution_count": 17,
     "metadata": {},
     "output_type": "execute_result"
    },
    {
     "data": {
      "image/png": "[encoded data removed]",
      "text/plain": [
       "<Figure size 432x288 with 1 Axes>"
      ]
     },
     "metadata": {},
     "output_type": "display_data"
    }
   ],
   "source": [
    "x = [1,2,3,4,5]\n",
    "y = [5,6,3,5,1]\n",
    "plt.scatter(x,y)"
   ]
  },
  {
   "cell_type": "markdown",
   "metadata": {},
   "source": [
    "#### Slope And Intercept"
   ]
  },
  {
   "cell_type": "markdown",
   "metadata": {},
   "source": [
    "Defintion slope:\n",
    "    \n",
    "    slope = rise/run"
   ]
  },
  {
   "cell_type": "markdown",
   "metadata": {},
   "source": [
    "The slope is the rate at which y increases with x, along the line. To interpret it another way, imagine the line as a road going up a hill. The slope measures the steepness of the grade. "
   ]
  },
  {
   "cell_type": "markdown",
   "metadata": {},
   "source": [
    "Definition intercept:\n",
    "\n",
    "    The intercept of a line is its height at x = 0. Usually, the axes cross at 0. Then, the intercept is where the line crosses the y-axis."
   ]
  },
  {
   "cell_type": "code",
   "execution_count": 18,
   "metadata": {},
   "outputs": [
    {
     "data": {
      "text/plain": [
       "<matplotlib.legend.Legend at 0x21e125fd5e0>"
      ]
     },
     "execution_count": 18,
     "metadata": {},
     "output_type": "execute_result"
    },
    {
     "data": {
      "image/png": "[encoded data removed]",
      "text/plain": [
       "<Figure size 432x288 with 1 Axes>"
      ]
     },
     "metadata": {},
     "output_type": "display_data"
    }
   ],
   "source": [
    "x = np.linspace(-5,5,100)\n",
    "slope = 2\n",
    "intercept = 1\n",
    "y = (slope * x) + 1\n",
    "plt.plot(x,y, label= \"y=2x + 1\")\n",
    "plt.legend()"
   ]
  },
  {
   "cell_type": "markdown",
   "metadata": {},
   "source": [
    "## Correlation"
   ]
  },
  {
   "cell_type": "markdown",
   "metadata": {},
   "source": [
    "#### The Scatter Diagram "
   ]
  },
  {
   "cell_type": "code",
   "execution_count": 19,
   "metadata": {},
   "outputs": [
    {
     "data": {
      "text/plain": [
       "Text(0.5, 1.0, 'Weak association')"
      ]
     },
     "execution_count": 19,
     "metadata": {},
     "output_type": "execute_result"
    },
    {
     "data": {
      "image/png": "[encoded data removed]",
      "text/plain": [
       "<Figure size 432x288 with 1 Axes>"
      ]
     },
     "metadata": {},
     "output_type": "display_data"
    }
   ],
   "source": [
    "y = np.random.normal(70,25,100)\n",
    "x = np.linspace(0,100,100)\n",
    "\n",
    "plt.scatter(x, y, label= \"datapoints\")\n",
    "m, b = np.polyfit(x,y,1)\n",
    "plt.plot(x, m*x + b, color= \"blue\", alpha= .6, label=\"Regression line\")\n",
    "plt.legend()\n",
    "plt.title(\"Weak association\")"
   ]
  },
  {
   "cell_type": "code",
   "execution_count": 20,
   "metadata": {},
   "outputs": [
    {
     "data": {
      "text/plain": [
       "Text(0.5, 1.0, 'Strong association')"
      ]
     },
     "execution_count": 20,
     "metadata": {},
     "output_type": "execute_result"
    },
    {
     "data": {
      "image/png": "[encoded data removed]",
      "text/plain": [
       "<Figure size 432x288 with 1 Axes>"
      ]
     },
     "metadata": {},
     "output_type": "display_data"
    }
   ],
   "source": [
    "x = np.array([10,12,14,16,18,20,22,24])\n",
    "y = np.array([11,13,14,16,19,20.5,22.5,25])\n",
    "plt.scatter(x,y, label= \"datapoints\")\n",
    "\n",
    "m, b = np.polyfit(x,y,1)\n",
    "plt.plot(x, m*x + b, color= \"blue\", alpha= .6, label= \"Regression line\")\n",
    "plt.legend()\n",
    "plt.title(\"Strong association\")"
   ]
  },
  {
   "cell_type": "markdown",
   "metadata": {},
   "source": [
    "If there is a strong association between two variables, then knowing one helps a lot in predicting the other. But when there is a weak association, information about one variable does not help much in guessing the other."
   ]
  },
  {
   "cell_type": "markdown",
   "metadata": {},
   "source": [
    "*Good to know:*\n",
    "In social studies of the relationship between two variables, it is usual to label one as independent and the other as dependent. Ordinarily, the dependent variable is thought to influence the dependent variable, rather than the other way around."
   ]
  },
  {
   "cell_type": "markdown",
   "metadata": {},
   "source": [
    "#### The Correlation Coefficient"
   ]
  },
  {
   "cell_type": "markdown",
   "metadata": {},
   "source": [
    "How to summarize the following scatter plot?"
   ]
  },
  {
   "cell_type": "code",
   "execution_count": 21,
   "metadata": {},
   "outputs": [
    {
     "data": {
      "text/plain": [
       "<matplotlib.legend.Legend at 0x21e12743b20>"
      ]
     },
     "execution_count": 21,
     "metadata": {},
     "output_type": "execute_result"
    },
    {
     "data": {
      "image/png": "[encoded data removed]",
      "text/plain": [
       "<Figure size 432x288 with 1 Axes>"
      ]
     },
     "metadata": {},
     "output_type": "display_data"
    }
   ],
   "source": [
    "x = np.array([91,81,86,83,85,85,85,84,91,91,91,85,85,87,90,97])\n",
    "y = np.array([85,83,85,84,85,84,86,83,86,86.5,86,85,85,85,85,88])\n",
    "\n",
    "# Plot the scatter plot\n",
    "plt.scatter(x,y, label= \"datapoints\")\n",
    "\n",
    "# Plot the regression line\n",
    "m, b = np.polyfit(x,y,1)\n",
    "plt.plot(x, m*x + b, color= \"blue\", alpha= .6, label= \"Regression line\")\n",
    "\n",
    "# Show the legend\n",
    "plt.legend()"
   ]
  },
  {
   "cell_type": "markdown",
   "metadata": {},
   "source": [
    "First step is to mark the point showing the average of the x-values and the average of the y-values"
   ]
  },
  {
   "cell_type": "code",
   "execution_count": 22,
   "metadata": {},
   "outputs": [
    {
     "data": {
      "text/plain": [
       "<matplotlib.legend.Legend at 0x21e127dcc70>"
      ]
     },
     "execution_count": 22,
     "metadata": {},
     "output_type": "execute_result"
    },
    {
     "data": {
      "image/png": "[encoded data removed]",
      "text/plain": [
       "<Figure size 432x288 with 1 Axes>"
      ]
     },
     "metadata": {},
     "output_type": "display_data"
    }
   ],
   "source": [
    "x = np.array([91,81,86,83,85,85,85,84,91,91,91,85,85,87,90,97])\n",
    "y = np.array([85,83,85,84,85,84,86,83,86,86.5,86,85,85,85,85,88])\n",
    "\n",
    "plt.scatter(x,y)\n",
    "\n",
    "m, b = np.polyfit(x,y,1)\n",
    "plt.plot(x, m*x + b, color= \"blue\", alpha= .4, label= \"Regression line\")\n",
    "\n",
    "# Plot the point of averages\n",
    "plt.scatter(np.mean(x), np.mean(y), color= \"black\", label= \"Point of averages\")\n",
    "\n",
    "plt.legend()"
   ]
  },
  {
   "cell_type": "markdown",
   "metadata": {},
   "source": [
    "Next step is to measure the spread of the cloud from side to side. This can be done using the SD of the x-values (horizontal SD)"
   ]
  },
  {
   "cell_type": "code",
   "execution_count": 23,
   "metadata": {},
   "outputs": [
    {
     "data": {
      "text/plain": [
       "<matplotlib.legend.Legend at 0x21e12855520>"
      ]
     },
     "execution_count": 23,
     "metadata": {},
     "output_type": "execute_result"
    },
    {
     "data": {
      "image/png": "[encoded data removed]",
      "text/plain": [
       "<Figure size 432x288 with 1 Axes>"
      ]
     },
     "metadata": {},
     "output_type": "display_data"
    }
   ],
   "source": [
    "x = np.array([91,81,86,83,85,85,85,84,91,91,91,85,85,87,90,97])\n",
    "y = np.array([85,83,85,84,85,84,86,83,86,86.5,86,85,85,85,85,88])\n",
    "\n",
    "plt.scatter(x,y)\n",
    "\n",
    "m, b = np.polyfit(x,y,1)\n",
    "plt.plot(x, m*x + b, color= \"blue\", alpha= .4, label= \"Regression line\")\n",
    "\n",
    "plt.scatter(np.mean(x), np.mean(y), color= \"black\", label= \"Point of averages\")\n",
    "\n",
    "# Plot the +2 and -2 SD of x\n",
    "plt.axvline(np.mean(x) + (np.std(x)*2), color=\"red\", linestyle= \"solid\", linewidth= .6, label= \"+2 std\")\n",
    "plt.axvline(np.mean(x) - (np.std(x)*2), color=\"red\", linestyle= \"solid\", linewidth= .6, label= \"-2 std\")\n",
    "\n",
    "plt.legend(loc=\"upper left\")"
   ]
  },
  {
   "cell_type": "markdown",
   "metadata": {},
   "source": [
    "In the same way we do this for the y-values"
   ]
  },
  {
   "cell_type": "code",
   "execution_count": 24,
   "metadata": {},
   "outputs": [
    {
     "data": {
      "text/plain": [
       "<matplotlib.legend.Legend at 0x21e126b3b80>"
      ]
     },
     "execution_count": 24,
     "metadata": {},
     "output_type": "execute_result"
    },
    {
     "data": {
      "image/png": "[encoded data removed]",
      "text/plain": [
       "<Figure size 432x288 with 1 Axes>"
      ]
     },
     "metadata": {},
     "output_type": "display_data"
    }
   ],
   "source": [
    "x = np.array([91,81,86,83,85,85,85,84,91,91,91,85,85,87,90,97])\n",
    "y = np.array([85,83,85,84,85,84,86,83,86,86.5,86,85,85,85,85,88])\n",
    "\n",
    "plt.scatter(x,y)\n",
    "\n",
    "m, b = np.polyfit(x,y,1)\n",
    "plt.plot(x, m*x + b, color= \"blue\", alpha= .4, label= \"Regression line\")\n",
    "\n",
    "plt.scatter(np.mean(x), np.mean(y), color= \"black\", label= \"Point of averages\")\n",
    "\n",
    "plt.axvline(np.mean(x) + (np.std(x)*2), color=\"red\", linestyle= \"solid\", linewidth= .6, label= \"+2 std\")\n",
    "plt.axvline(np.mean(x) - (np.std(x)*2), color=\"red\", linestyle= \"solid\", linewidth= .6, label= \"-2 std\")\n",
    "\n",
    "# Plot the +2 and -2 SD for y\n",
    "plt.axhline(np.mean(y) + (np.std(y)*2), color=\"red\", linestyle= \"solid\", linewidth= .6)\n",
    "plt.axhline(np.mean(y) - (np.std(y)*2), color=\"red\", linestyle= \"solid\", linewidth= .6)\n",
    "\n",
    "# Add horizontal and vertical line for mean\n",
    "plt.axvline(np.mean(x), color=\"black\", linestyle=\"dashed\", alpha=0.3)\n",
    "plt.axhline(np.mean(y), color=\"black\", linestyle=\"dashed\", alpha=0.3)\n",
    "\n",
    "plt.legend()"
   ]
  },
  {
   "cell_type": "markdown",
   "metadata": {},
   "source": [
    "These statistics tell us the center of the cloud, and how spread out it is, both horizontally and vertically. But there is still somethin missing -- the strenght of the association between the two variables."
   ]
  },
  {
   "cell_type": "code",
   "execution_count": 25,
   "metadata": {},
   "outputs": [
    {
     "name": "stdout",
     "output_type": "stream",
     "text": [
      "The correlation of x and y is: 0.9959326878957174\n"
     ]
    },
    {
     "data": {
      "image/png": "[encoded data removed]",
      "text/plain": [
       "<Figure size 432x288 with 1 Axes>"
      ]
     },
     "metadata": {},
     "output_type": "display_data"
    }
   ],
   "source": [
    "x = np.array([10,12,14,16,18,20,22,24])\n",
    "y = np.array([11,13,14,16,19,20.5,22.5,25])\n",
    "plt.scatter(x,y, label= \"datapoints\")\n",
    "\n",
    "m, b = np.polyfit(x,y,1)\n",
    "plt.plot(x, m*x + b, color= \"blue\", alpha= .6, label= \"Regression line\")\n",
    "plt.legend()\n",
    "plt.title(\"Tight clustering\")\n",
    "print(\"The correlation of x and y is:\", np.corrcoef(x,y)[0,1])"
   ]
  },
  {
   "cell_type": "markdown",
   "metadata": {},
   "source": [
    "Correlation near 1 means tight clustering\n",
    "______________________________________________________________________________________________________________________"
   ]
  },
  {
   "cell_type": "code",
   "execution_count": 26,
   "metadata": {},
   "outputs": [
    {
     "name": "stdout",
     "output_type": "stream",
     "text": [
      "The correlation of x and y is: -0.0896820409845927\n"
     ]
    },
    {
     "data": {
      "image/png": "[encoded data removed]",
      "text/plain": [
       "<Figure size 432x288 with 1 Axes>"
      ]
     },
     "metadata": {},
     "output_type": "display_data"
    }
   ],
   "source": [
    "y = np.random.normal(70,25,100)\n",
    "x = np.linspace(0,100,100)\n",
    "\n",
    "plt.scatter(x, y, label= \"datapoints\")\n",
    "m, b = np.polyfit(x,y,1)\n",
    "plt.plot(x, m*x + b, color= \"blue\", alpha= .6, label=\"Regression line\")\n",
    "plt.legend()\n",
    "plt.title(\"Loose clustering\")\n",
    "print(\"The correlation of x and y is:\", np.corrcoef(x,y)[0,1])"
   ]
  },
  {
   "cell_type": "markdown",
   "metadata": {},
   "source": [
    "Correlation near 0 means loose clustering\n",
    "______________________________________________________________________________________________________________________"
   ]
  },
  {
   "cell_type": "markdown",
   "metadata": {},
   "source": [
    "Two clouds can have the same center and show the same spread, horizontally and vertically. However, the points can be more tightly clustered in the first one than in the second one(There is a strong linear association between the two varibales. The strenght of the association is different in the two diagrams. To measure the association, one more summary statistic is needed - the correlation coefficient. This coefficient is usually abbreviated as r"
   ]
  },
  {
   "cell_type": "markdown",
   "metadata": {},
   "source": [
    "Definition:\n",
    "\n",
    "    The correlation coefficient is a measure of linear association, or clustering around a line. The relationship between two variables can be summarized by\n",
    "        -the average of the x-values, the SD of the x-values\n",
    "        -the avergae of the y-values, the SD of the y-values\n",
    "        -the correlation coefficient r"
   ]
  },
  {
   "cell_type": "markdown",
   "metadata": {},
   "source": [
    "So far, only positive association has been discussed. Negative association is indicated by a negative sign in the correlation coefficient. A correlation of -0.90, for instance, indicates the same degree of clustering as one of +0.90. With the negative sign, the clustering is around a line which slopes down; with a positive sign, the line slopes up."
   ]
  },
  {
   "cell_type": "markdown",
   "metadata": {},
   "source": [
    "*Good to know:*\n",
    "Correlations are always between -1 and 1, but can take any value in between. A positive correlation means that the cloud slopes up; as one variable increases, so does the other. A negative correlation means that the cloud slopes down; as one variable increases, the other decreases."
   ]
  },
  {
   "cell_type": "markdown",
   "metadata": {},
   "source": [
    "#### Computing The Correlation Coefficient"
   ]
  },
  {
   "cell_type": "markdown",
   "metadata": {},
   "source": [
    "Defintion:\n",
    "\n",
    "    Convert each variable to standart units. The average of the product gives the correlation coefficient.\n",
    "    \n",
    "            r = average of (x in standart units) * (y in standart units)"
   ]
  },
  {
   "cell_type": "code",
   "execution_count": 27,
   "metadata": {},
   "outputs": [
    {
     "name": "stdout",
     "output_type": "stream",
     "text": [
      "The mean for x_data: 4.0\n",
      "The mean for y_data: 7.0 \n",
      "\n",
      "The SD for x_data: 2.0\n",
      "The SD for y_data: 4.0 \n",
      "\n",
      "The Standart Units for x_data: [-1.5 -0.5  0.   0.5  1.5]\n",
      "The Standart Units for y_data: [-0.5  0.5  0.  -1.5  1.5] \n",
      "\n",
      "The Correlation Coefficient by calculating Average of (Standart Units of x * Standart Units of y):\n",
      " 0.4\n"
     ]
    }
   ],
   "source": [
    "x_data = np.array([1,3,4,5,7])\n",
    "y_data = np.array([5,9,7,1,13])\n",
    "\n",
    "# Compute the mean of x and y\n",
    "mean_x_data = np.mean(x_data)\n",
    "mean_y_data = np.mean(y_data)\n",
    "print(\"The mean for x_data:\", mean_x_data)\n",
    "print(\"The mean for y_data:\", mean_y_data, \"\\n\")\n",
    "\n",
    "# Compute the SD of x and y\n",
    "sd_x_data = np.std(x_data)\n",
    "sd_y_data = np.std(y_data)\n",
    "print(\"The SD for x_data:\", sd_x_data)\n",
    "print(\"The SD for y_data:\", sd_y_data, \"\\n\")\n",
    "\n",
    "# Get the standart units of x and y\n",
    "su_x_data = (x_data - mean_x_data) / sd_x_data\n",
    "su_y_data = (y_data - mean_y_data) / sd_y_data\n",
    "print(\"The Standart Units for x_data:\", su_x_data)\n",
    "print(\"The Standart Units for y_data:\", su_y_data, \"\\n\")\n",
    "\n",
    "# Compute r by taking the average of the product of the standart units of x and y\n",
    "r = np.mean(su_x_data * su_y_data)\n",
    "print(\"The Correlation Coefficient by calculating Average of (Standart Units of x * Standart Units of y):\\n\",\n",
    "     r)"
   ]
  },
  {
   "cell_type": "markdown",
   "metadata": {},
   "source": [
    "You can also compute it directly, without the steps above, by using the NumPy method np.corrcoef()"
   ]
  },
  {
   "cell_type": "code",
   "execution_count": 28,
   "metadata": {},
   "outputs": [
    {
     "name": "stdout",
     "output_type": "stream",
     "text": [
      "The result is a NumPy array with the correleation for x and y:\n",
      " 0.4\n"
     ]
    }
   ],
   "source": [
    "# Computing r for x_data and y_data by using NumPy method\n",
    "r = np.corrcoef(x_data,y_data)\n",
    "print(\"The result is a NumPy array with the correleation for x and y:\\n\", r[0,1].round(1))"
   ]
  },
  {
   "cell_type": "markdown",
   "metadata": {},
   "source": [
    "## More about Correlation"
   ]
  },
  {
   "cell_type": "markdown",
   "metadata": {},
   "source": [
    "#### Change of Scale"
   ]
  },
  {
   "cell_type": "markdown",
   "metadata": {},
   "source": [
    "If you multiply each value of x by 3, then the average gets multiplied by 3. All the deviations from the average get multiplied by 3 as wel, and so does the SD. This common factor cancels in the conversion to standart units. So *r* stays the same. If you add 7 to each value of x. Then the average of x goes up by 7 too. However, the deviations from the average do not change. Neither does *r*. "
   ]
  },
  {
   "cell_type": "code",
   "execution_count": 29,
   "metadata": {},
   "outputs": [
    {
     "name": "stdout",
     "output_type": "stream",
     "text": [
      "Mean of x: 4.428571428571429 \n",
      "SD of x: 2.610809554642438 \n",
      "Correlation of x and y: -0.9212544345705068 \n",
      "\n",
      "Mean of x3: 13.285714285714286 \n",
      "SD of x3: 7.832428663927313 \n",
      "Correlation of x3 and y: -0.9212544345705068 \n",
      "\n",
      "Mean of x7: 11.428571428571429 \n",
      "SD of x7: 2.610809554642438 \n",
      "Correlation of x7 and y: -0.9212544345705068 \n",
      "\n"
     ]
    }
   ],
   "source": [
    "# summarize normal data\n",
    "x = np.array([1,2,3,4,5,7,9])\n",
    "y = np.array([9,8,6,3,4,2,1.5])\n",
    "x_mean = np.mean(x)\n",
    "x_sd = np.std(x)\n",
    "x_r = np.corrcoef(x,y)\n",
    "print(\"Mean of x:\", x_mean,\"\\nSD of x:\", x_sd, \"\\nCorrelation of x and y:\",x_r[0,1],\"\\n\")\n",
    "\n",
    "# summarize x * 3\n",
    "x3 = x * 3\n",
    "x3_mean = np.mean(x3)\n",
    "x3_sd = np.std(x3)\n",
    "x3_r = np.corrcoef(x3,y)\n",
    "print(\"Mean of x3:\", x3_mean,\"\\nSD of x3:\", x3_sd, \"\\nCorrelation of x3 and y:\",x3_r[0,1],\"\\n\")\n",
    "\n",
    "# summarize x + 7\n",
    "x7 = x + 7\n",
    "x7_mean = np.mean(x7)\n",
    "x7_sd = np.std(x7)\n",
    "x7_r = np.corrcoef(x7,y)\n",
    "print(\"Mean of x7:\", x7_mean,\"\\nSD of x7:\", x7_sd, \"\\nCorrelation of x7 and y:\",x7_r[0,1],\"\\n\")"
   ]
  },
  {
   "cell_type": "markdown",
   "metadata": {},
   "source": [
    "The correlation coefficient is a pure number, without units. It is not affected by\n",
    "\n",
    "    -interchanging the two variables,\n",
    "    -adding the same number to all the values of one variable,\n",
    "    -multiplying all the values of one variable by the same positive number."
   ]
  },
  {
   "cell_type": "markdown",
   "metadata": {},
   "source": [
    "#### Some Exceptional Cases"
   ]
  },
  {
   "cell_type": "markdown",
   "metadata": {},
   "source": [
    "The correlation coefficient is useful for football-shaped diagrams. For other diagrams, *r* can be misleading. Outliers and non-linearity are problem cases. "
   ]
  },
  {
   "cell_type": "code",
   "execution_count": 30,
   "metadata": {},
   "outputs": [
    {
     "name": "stdout",
     "output_type": "stream",
     "text": [
      "Correlation with outlier: 0.07974522228288998\n",
      "Correlation without outlier: 1.0\n"
     ]
    },
    {
     "data": {
      "image/png": "[encoded data removed]",
      "text/plain": [
       "<Figure size 432x288 with 1 Axes>"
      ]
     },
     "metadata": {},
     "output_type": "display_data"
    }
   ],
   "source": [
    "x = np.array([1,2,3,4,6])\n",
    "y = np.array([1,2,3,4,1])\n",
    "\n",
    "plt.scatter(x,y)\n",
    "plt.title(\"Outliers\")\n",
    "\n",
    "print(\"Correlation with outlier:\", np.corrcoef(x,y)[0,1])\n",
    "print(\"Correlation without outlier:\", np.corrcoef(x[:-1], y[:-1])[0,1])"
   ]
  },
  {
   "cell_type": "markdown",
   "metadata": {},
   "source": [
    "Because of the outlier, the correlation goes nearly down to 0, whereas the correlation without the outlier is a solid 1."
   ]
  },
  {
   "cell_type": "code",
   "execution_count": 31,
   "metadata": {},
   "outputs": [
    {
     "name": "stdout",
     "output_type": "stream",
     "text": [
      "Correlation: -0.02940590311964545\n"
     ]
    },
    {
     "data": {
      "image/png": "[encoded data removed]",
      "text/plain": [
       "<Figure size 432x288 with 1 Axes>"
      ]
     },
     "metadata": {},
     "output_type": "display_data"
    }
   ],
   "source": [
    "x = np.array([1,1,2,2,3,3,4,4,5,5,6,6,7,7,8,8,9,9])\n",
    "y = np.array([1,1.5,2,2.5,3,4,4.5,4.9,5,4.3,4.5,4.1,3.5,3,2.5,2,1.5,1])\n",
    "\n",
    "plt.scatter(x,y)\n",
    "plt.title(\"Nonlinear association\")\n",
    "\n",
    "print(\"Correlation:\", np.corrcoef(x,y)[0,1])"
   ]
  },
  {
   "cell_type": "markdown",
   "metadata": {},
   "source": [
    "Although there seems to be a strong association between x and y, the correlation coefficient says otherwise. This is because the correlation coefficient is no option to measure a nonlinear association. "
   ]
  },
  {
   "cell_type": "markdown",
   "metadata": {},
   "source": [
    "*Good to know:*\n",
    "\n",
    "*r* measures linear association, not association in general.\n"
   ]
  },
  {
   "cell_type": "markdown",
   "metadata": {},
   "source": [
    "#### Ecological Correlations"
   ]
  },
  {
   "cell_type": "markdown",
   "metadata": {},
   "source": [
    "Correlations based on rates or averages can be misleading."
   ]
  },
  {
   "cell_type": "markdown",
   "metadata": {},
   "source": [
    "Ecological correlations are based on rates or averages. They are often used in political and sociology. And they tend to overstate the strenght of an association. So watch out."
   ]
  },
  {
   "cell_type": "code",
   "execution_count": 32,
   "metadata": {},
   "outputs": [
    {
     "name": "stdout",
     "output_type": "stream",
     "text": [
      "Correlation for all individual datapoints: 0.6272913638561822\n",
      "Correlation for the average datapoints: 0.9896121976285037\n"
     ]
    },
    {
     "data": {
      "text/plain": [
       "<matplotlib.legend.Legend at 0x21e12ac9dc0>"
      ]
     },
     "execution_count": 32,
     "metadata": {},
     "output_type": "execute_result"
    },
    {
     "data": {
      "image/png": "[encoded data removed]",
      "text/plain": [
       "<Figure size 432x288 with 1 Axes>"
      ]
     },
     "metadata": {},
     "output_type": "display_data"
    }
   ],
   "source": [
    "x_data_a = np.array([1,1.5,4,4.1])\n",
    "y_data_a = np.array([1,3,1,3])\n",
    "plt.scatter(x_data_a, y_data_a, label = \"Data A\")\n",
    "\n",
    "x_data_b = np.array([2,3,3,4,4.5,4.5])\n",
    "y_data_b = np.array([2.5,2.5,5,2.3,5.5,4])\n",
    "plt.scatter(x_data_b, y_data_b, label = \"Data B\")\n",
    "\n",
    "x_data_c = np.array([3.9,4,6,6.5])\n",
    "y_data_c = np.array([5,5.5,6,5.3])\n",
    "plt.scatter(x_data_c, y_data_c, label = \"Data C\")\n",
    "\n",
    "# Concatenate x_data together\n",
    "x_data = np.hstack((x_data_a, x_data_b, x_data_c))\n",
    "\n",
    "# Concatenate y_data together\n",
    "y_data = np.hstack((y_data_a, y_data_b, y_data_c))\n",
    "\n",
    "# Get the correlation for all individual datapoints\n",
    "print(\"Correlation for all individual datapoints:\", np.corrcoef(x_data, y_data)[0,1])\n",
    "\n",
    "# Computing mean of x_data_a and the mean of y_data_a and plot it\n",
    "mean_x_data_a = np.mean(x_data_a)\n",
    "mean_y_data_a = np.mean(y_data_a)\n",
    "plt.scatter(mean_x_data_a, mean_y_data_a, color= \"black\")\n",
    "\n",
    "# Computing mean of x_data_b and the mean of y_data_b and plot it\n",
    "mean_x_data_b = np.mean(x_data_b)\n",
    "mean_y_data_b = np.mean(y_data_b)\n",
    "plt.scatter(mean_x_data_b, mean_y_data_b, color= \"black\")\n",
    "\n",
    "# Computing mean of x_data_c and the mean of y_data_c and plot it\n",
    "mean_x_data_c = np.mean(x_data_c)\n",
    "mean_y_data_c = np.mean(y_data_c)\n",
    "plt.scatter(mean_x_data_c, mean_y_data_c, color= \"black\")\n",
    "\n",
    "# Concatenate mean_x_data together\n",
    "mean_x_data = np.hstack((mean_x_data_a, mean_x_data_b, mean_x_data_c))\n",
    "\n",
    "# Concatenate mean_y_data together\n",
    "mean_y_data = np.hstack((mean_y_data_a, mean_y_data_b, mean_y_data_c))\n",
    "\n",
    "# Get the correlation of the mean datapoints\n",
    "print(\"Correlation for the average datapoints:\", np.corrcoef(mean_x_data, mean_y_data)[0,1])\n",
    "plt.annotate(\"A\", (2.8,2))\n",
    "plt.annotate(\"B\", (3.6,3.65))\n",
    "plt.annotate(\"C\", (5.2,5.5))\n",
    "plt.legend([\"Data A\", \"Data B\", \"Data C\", \"Mean\"])"
   ]
  },
  {
   "cell_type": "markdown",
   "metadata": {},
   "source": [
    "As you can see the correlation for the mean datapoints is way higher, than the correlation for the individual points. That is why the ecological correlation is often misleading."
   ]
  },
  {
   "cell_type": "markdown",
   "metadata": {},
   "source": [
    "#### Association Is Not Causation"
   ]
  },
  {
   "cell_type": "markdown",
   "metadata": {},
   "source": [
    "Correlation measures association. But association is not the same as causation."
   ]
  },
  {
   "cell_type": "markdown",
   "metadata": {},
   "source": [
    "E.g. \n",
    "For school children, shoe size is strongly correlated with reading skills. However, learning new words does not make the feet bigger. Instead, there is a third factor involved - age. As children get older, they learn to read better and they outgrow their shoes. (Age is in this example the confounder.)"
   ]
  },
  {
   "cell_type": "markdown",
   "metadata": {},
   "source": [
    "## Regression"
   ]
  },
  {
   "cell_type": "markdown",
   "metadata": {},
   "source": [
    "The regression method describes how one variable depends on another.\n",
    "It is much like the SD-line, where an increase of 1 SD on one variable, also shows 1 SD increase of the other.\n",
    "The regression line is where the correlation comes in. The regression line estimates the average of the dependent variable at each point of the independent variable. Therefore, with an increase of 1 SD in the independent variable, there is an increase or decrease of r * 1 SD in the dependent variable."
   ]
  },
  {
   "cell_type": "code",
   "execution_count": 33,
   "metadata": {},
   "outputs": [
    {
     "name": "stdout",
     "output_type": "stream",
     "text": [
      "The Correlation is: 0.7318078858472782\n",
      "The average weight is 85.74kg on the +1SD height (186.75cm)\n"
     ]
    },
    {
     "data": {
      "image/png": "[encoded data removed]",
      "text/plain": [
       "<Figure size 432x288 with 1 Axes>"
      ]
     },
     "metadata": {},
     "output_type": "display_data"
    }
   ],
   "source": [
    "height1 = (np.random.normal(175, 12, 50).round().astype(np.int))\n",
    "height2 = sorted(np.random.normal(175, 12, 50).round().astype(np.int))\n",
    "height3 = sorted(np.random.normal(175, 12, 50).round().astype(np.int))\n",
    "height4 = sorted(np.random.normal(175, 12, 50).round().astype(np.int))\n",
    "height5 = sorted(np.random.normal(175, 12, 50).round().astype(np.int))\n",
    "weight1 = sorted(np.random.normal(75, 15, 50).round().astype(np.int))\n",
    "weight2 = sorted(np.random.normal(75, 15, 50).round().astype(np.int))\n",
    "weight3 = sorted(np.random.normal(75, 15, 50).round().astype(np.int))\n",
    "weight4 = sorted(np.random.normal(75, 15, 50).round().astype(np.int))\n",
    "weight5 = sorted(np.random.normal(75, 15, 50).round().astype(np.int))\n",
    "\n",
    "height = np.hstack([height1, height2, height3, height4, height5])\n",
    "weight = np.hstack([weight1, weight2, weight3, weight4, weight5])\n",
    "corr = np.corrcoef(height, weight,rowvar= True)\n",
    "# plot Data as scatter plot\n",
    "plt.scatter(height, weight, alpha= 0.8)\n",
    "# plot regression line\n",
    "m, b = np.polyfit(height,weight,1)\n",
    "plt.plot(height, m*height + b, color= \"blue\", alpha= .6, label= \"Regression line\")\n",
    "# plot average weight for height on +1 SD\n",
    "plt.scatter(np.mean(height) + np.std(height), np.mean(weight) + (np.std(weight)* corr[0,1]),\n",
    "color= \"black\", label= \"avg. weight on 1 SD height\")\n",
    "# plot the legend\n",
    "plt.legend()\n",
    "\n",
    "# Show the correlation coefficient\n",
    "print(\"The Correlation is:\", np.corrcoef(height,weight)[0,1])\n",
    "print(\"The average weight is {}kg on the +1SD height ({}cm)\".format((np.mean(weight) + (np.std(weight)* corr[0,1])).round(2),(np.mean(height) + np.std(height)).round(2)))"
   ]
  },
  {
   "cell_type": "markdown",
   "metadata": {},
   "source": [
    "As you can see the point for the average weight on one SD for height stays always one the regression line.\n",
    "You can repeat the random dataset to test."
   ]
  },
  {
   "cell_type": "markdown",
   "metadata": {},
   "source": [
    "Definition:\n",
    "    \n",
    "    The regression line for y on x estimates the average value for y corresponding to each value of x.\n",
    "    Associated with each increase of one SD in x there is an increase of only *r* SDs in y, on the average.\n",
    "    "
   ]
  },
  {
   "cell_type": "markdown",
   "metadata": {},
   "source": [
    "Along the regression line, associated with each increase of one SD in height there is an increase of only 0.788 SDs in weight. To be more specific, imagine grouping the men by height. There is a group that is average in height, another group which is one SD above average in height, another group which is one SD above average in height, and so on. From each group to the next, the average weight also goes up, but only by around 0.788 SDs. Remember where the 0.788 comes from. It is the correlation between height and weight. This way of using the correlation coefficient to estimate the average value of y for each value of x is called the regression method. "
   ]
  },
  {
   "cell_type": "markdown",
   "metadata": {},
   "source": [
    "#### The Graph Of Averages"
   ]
  },
  {
   "cell_type": "code",
   "execution_count": 34,
   "metadata": {},
   "outputs": [
    {
     "data": {
      "text/plain": [
       "<matplotlib.collections.PathCollection at 0x21e12bb3eb0>"
      ]
     },
     "execution_count": 34,
     "metadata": {},
     "output_type": "execute_result"
    },
    {
     "data": {
      "image/png": "[encoded data removed]",
      "text/plain": [
       "<Figure size 432x288 with 1 Axes>"
      ]
     },
     "metadata": {},
     "output_type": "display_data"
    }
   ],
   "source": [
    "height_np = height\n",
    "weight_np = weight\n",
    "\n",
    "height_pd = pd.Series(height_np)\n",
    "weight_pd = pd.Series(weight_np)\n",
    "\n",
    "dataframe = pd.DataFrame({\"height\":height_pd, \"weight\": weight_pd})\n",
    "dataframe\n",
    "mean = dataframe.groupby(\"height\").mean().reset_index()\n",
    "mean\n",
    "\n",
    "plt.scatter(mean[\"height\"], mean[\"weight\"])"
   ]
  },
  {
   "cell_type": "markdown",
   "metadata": {},
   "source": [
    "The graph shows the average weight for the persons at each height.(From the previous dataset.)\n",
    "\n",
    "As you can see, the graph is quite bumpy."
   ]
  },
  {
   "cell_type": "code",
   "execution_count": 35,
   "metadata": {},
   "outputs": [
    {
     "data": {
      "text/plain": [
       "[<matplotlib.lines.Line2D at 0x21e12bf3f40>]"
      ]
     },
     "execution_count": 35,
     "metadata": {},
     "output_type": "execute_result"
    },
    {
     "data": {
      "image/png": "[encoded data removed]",
      "text/plain": [
       "<Figure size 432x288 with 1 Axes>"
      ]
     },
     "metadata": {},
     "output_type": "display_data"
    }
   ],
   "source": [
    "plt.scatter(mean[\"height\"], mean[\"weight\"])\n",
    "plt.plot(height, m*height + b, color= \"blue\", alpha= .6, label= \"Regression line\")"
   ]
  },
  {
   "cell_type": "markdown",
   "metadata": {},
   "source": [
    "The regression line is a smoothed version of averages. If the graph of averages follows a straight line, that line is the regression line."
   ]
  },
  {
   "cell_type": "code",
   "execution_count": 36,
   "metadata": {},
   "outputs": [
    {
     "name": "stdout",
     "output_type": "stream",
     "text": [
      "Correlation: -0.02940590311964545\n"
     ]
    },
    {
     "data": {
      "text/plain": [
       "<matplotlib.legend.Legend at 0x21e12c6fa60>"
      ]
     },
     "execution_count": 36,
     "metadata": {},
     "output_type": "execute_result"
    },
    {
     "data": {
      "image/png": "[encoded data removed]",
      "text/plain": [
       "<Figure size 432x288 with 1 Axes>"
      ]
     },
     "metadata": {},
     "output_type": "display_data"
    }
   ],
   "source": [
    "x = np.array([1,1,2,2,3,3,4,4,5,5,6,6,7,7,8,8,9,9])\n",
    "y = np.array([1,1.5,2,2.5,3,4,4.5,4.9,5,4.3,4.5,4.1,3.5,3,2.5,2,1.5,1])\n",
    "\n",
    "plt.scatter(x,y, label= \"Points of Averages\")\n",
    "plt.title(\"Nonlinear association\")\n",
    "\n",
    "print(\"Correlation:\", np.corrcoef(x,y)[0,1])\n",
    "m, b = np.polyfit(x,y,1)\n",
    "plt.plot(x, m*x + b, color= \"blue\", alpha= .6, label= \"Regression line\")\n",
    "plt.legend()"
   ]
  },
  {
   "cell_type": "markdown",
   "metadata": {},
   "source": [
    "If there is a non-linear association between the two variables, it is better to use the graph of averages."
   ]
  },
  {
   "cell_type": "markdown",
   "metadata": {},
   "source": [
    "#### The Regression Fallacy"
   ]
  },
  {
   "cell_type": "markdown",
   "metadata": {},
   "source": [
    "In virtually all test-retest situations, the bottom group on the first test will on average show improvement on the second test-- and the top group will on average fall back. This is the regression effect."
   ]
  },
  {
   "cell_type": "markdown",
   "metadata": {},
   "source": [
    "## The R.M.S. Error For Regression"
   ]
  },
  {
   "cell_type": "markdown",
   "metadata": {},
   "source": [
    "The regression method can be used to predict y from x. However, actual values differ from predictions. By how much? The object of this section is to measure the overall size of the difference usinf r.m.s. error. For this example, take the heights and and weights of the **dataframe**"
   ]
  },
  {
   "cell_type": "code",
   "execution_count": 60,
   "metadata": {},
   "outputs": [
    {
     "data": {
      "text/plain": [
       "[<matplotlib.lines.Line2D at 0x21e15d94220>]"
      ]
     },
     "execution_count": 60,
     "metadata": {},
     "output_type": "execute_result"
    },
    {
     "data": {
      "image/png": "[encoded data removed]",
      "text/plain": [
       "<Figure size 432x288 with 1 Axes>"
      ]
     },
     "metadata": {},
     "output_type": "display_data"
    }
   ],
   "source": [
    "plt.scatter(height, weight, alpha= 0.8)\n",
    "# plot regression line\n",
    "m, b = np.polyfit(height,weight,1)\n",
    "plt.plot(height, m*height + b, color= \"blue\", alpha= .6, label= \"Regression line\")"
   ]
  },
  {
   "cell_type": "code",
   "execution_count": 66,
   "metadata": {},
   "outputs": [
    {
     "name": "stdout",
     "output_type": "stream",
     "text": [
      "Actual and Predicted value for the height 180 cm\n",
      "Actual value: 85\n",
      "Predicted value: 80.0\n"
     ]
    }
   ],
   "source": [
    "actual = 85\n",
    "predict = ((m*180) + b).round()\n",
    "\n",
    "print(\"Actual and Predicted value for the height 180 cm\")\n",
    "print(\"Actual value: {}\".format(actual))\n",
    "print(\"Predicted value:\", predict)\n"
   ]
  },
  {
   "cell_type": "markdown",
   "metadata": {},
   "source": [
    "The error is the actual value - predicted value"
   ]
  },
  {
   "cell_type": "code",
   "execution_count": 68,
   "metadata": {},
   "outputs": [
    {
     "name": "stdout",
     "output_type": "stream",
     "text": [
      "error of actual value 85 - predicted value 80.0 = 5.0\n"
     ]
    }
   ],
   "source": [
    "print(\"error of actual value {} - predicted value {} = {}\".format(actual, predict, actual - predict))"
   ]
  },
  {
   "cell_type": "markdown",
   "metadata": {},
   "source": [
    "To get the r.m.s. error it is the same as for the normal r.m.s.\n",
    "\n",
    "The formula is each error(for each datapoint) squared. Take the square root of the average. "
   ]
  },
  {
   "cell_type": "code",
   "execution_count": 81,
   "metadata": {},
   "outputs": [
    {
     "name": "stdout",
     "output_type": "stream",
     "text": [
      "9.953077568998433\n"
     ]
    }
   ],
   "source": [
    "from sklearn.metrics import mean_squared_error\n",
    "from math import sqrt\n",
    "\n",
    "rms = sqrt(mean_squared_error(weight, m* height + b))\n",
    "print(rms)"
   ]
  },
  {
   "cell_type": "code",
   "execution_count": null,
   "metadata": {},
   "outputs": [],
   "source": []
  },
  {
   "cell_type": "code",
   "execution_count": null,
   "metadata": {},
   "outputs": [],
   "source": []
  }
 ],
 "metadata": {
  "kernelspec": {
   "display_name": "Python 3",
   "language": "python",
   "name": "python3"
  },
  "language_info": {
   "codemirror_mode": {
    "name": "ipython",
    "version": 3
   },
   "file_extension": ".py",
   "mimetype": "text/x-python",
   "name": "python",
   "nbconvert_exporter": "python",
   "pygments_lexer": "ipython3",
   "version": "3.8.2"
  }
 },
 "nbformat": 4,
 "nbformat_minor": 4
}
